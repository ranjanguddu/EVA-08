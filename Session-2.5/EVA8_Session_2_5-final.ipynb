{
  "nbformat": 4,
  "nbformat_minor": 0,
  "metadata": {
    "colab": {
      "provenance": []
    },
    "kernelspec": {
      "name": "python3",
      "display_name": "Python 3"
    },
    "language_info": {
      "name": "python"
    },
    "accelerator": "GPU",
    "gpuClass": "standard"
  },
  "cells": [
    {
      "cell_type": "code",
      "source": [
        "!nvidia-smi"
      ],
      "metadata": {
        "colab": {
          "base_uri": "https://localhost:8080/"
        },
        "id": "tMo73hMYRncP",
        "outputId": "89824ec0-f664-418f-c5e6-74c4d1319c54"
      },
      "execution_count": 89,
      "outputs": [
        {
          "output_type": "stream",
          "name": "stdout",
          "text": [
            "Thu Jan  5 12:04:40 2023       \n",
            "+-----------------------------------------------------------------------------+\n",
            "| NVIDIA-SMI 460.32.03    Driver Version: 460.32.03    CUDA Version: 11.2     |\n",
            "|-------------------------------+----------------------+----------------------+\n",
            "| GPU  Name        Persistence-M| Bus-Id        Disp.A | Volatile Uncorr. ECC |\n",
            "| Fan  Temp  Perf  Pwr:Usage/Cap|         Memory-Usage | GPU-Util  Compute M. |\n",
            "|                               |                      |               MIG M. |\n",
            "|===============================+======================+======================|\n",
            "|   0  Tesla T4            Off  | 00000000:00:04.0 Off |                    0 |\n",
            "| N/A   67C    P0    32W /  70W |   1216MiB / 15109MiB |      0%      Default |\n",
            "|                               |                      |                  N/A |\n",
            "+-------------------------------+----------------------+----------------------+\n",
            "                                                                               \n",
            "+-----------------------------------------------------------------------------+\n",
            "| Processes:                                                                  |\n",
            "|  GPU   GI   CI        PID   Type   Process name                  GPU Memory |\n",
            "|        ID   ID                                                   Usage      |\n",
            "|=============================================================================|\n",
            "+-----------------------------------------------------------------------------+\n"
          ]
        }
      ]
    },
    {
      "cell_type": "code",
      "execution_count": 90,
      "metadata": {
        "id": "Ep0LfMGgDfSO"
      },
      "outputs": [],
      "source": [
        "import torch\n",
        "import torchvision \n",
        "import torchvision.transforms as transforms\n",
        "import torch.nn as nn\n",
        "import torch.nn.functional as F\n",
        "import torch.optim as optim\n",
        "from torch.utils.data import Dataset\n",
        "import random\n",
        "import numpy as np"
      ]
    },
    {
      "cell_type": "code",
      "source": [
        "mnist_set = torchvision.datasets.MNIST(\n",
        "    root='./data'\n",
        "    ,train=True\n",
        "    ,download=True\n",
        "    ,transform=transforms.Compose([\n",
        "        transforms.ToTensor()\n",
        "    ])\n",
        ")"
      ],
      "metadata": {
        "id": "NbUbnFHbDnUE"
      },
      "execution_count": 91,
      "outputs": []
    },
    {
      "cell_type": "code",
      "source": [
        "class CreateDataSet(Dataset):\n",
        "  def __init__(self, mnist_data):\n",
        "    self.data = mnist_data\n",
        "    self.rand_num = random.randrange(9)\n",
        "  \n",
        "  def getrandom(self, num, bas):\n",
        "    b = np.zeros(bas)\n",
        "    b[num] = 1\n",
        "    return b\n",
        "\n",
        "\n",
        "  def __getitem__(self, index):\n",
        "    num_image, actual_num = self.data[index]\n",
        "    random_num = (index+actual_num+self.rand_num)%9\n",
        "    random_number = self.getrandom(random_num, 10)\n",
        "    actual_sum = random_num + actual_num\n",
        "    actual_sum = self.getrandom(actual_sum, 19)\n",
        "    \n",
        "    return num_image, random_number, actual_num, actual_sum\n",
        "  \n",
        "  def __len__(self):\n",
        "    return len(self.data)"
      ],
      "metadata": {
        "id": "MzeCujiWDsRM"
      },
      "execution_count": 92,
      "outputs": []
    },
    {
      "cell_type": "code",
      "source": [
        "dataset = CreateDataSet(mnist_set)\n",
        "train_set, test_set = torch.utils.data.random_split(dataset, [48000,12000])\n",
        "train_loader = torch.utils.data.DataLoader(dataset=train_set, batch_size = 64, shuffle=True)\n",
        "test_loader = torch.utils.data.DataLoader(dataset = test_set, batch_size=32)"
      ],
      "metadata": {
        "id": "OekLYbpdDu0e"
      },
      "execution_count": 93,
      "outputs": []
    },
    {
      "cell_type": "code",
      "source": [
        "ctr = 1\n",
        "for item in train_loader:\n",
        "  print(f'mnist_num:{item[2]} random_num:{item[1]} actual sum:{item[3]}')\n",
        "  ctr+=1\n",
        "\n",
        "  if ctr==2:break\n"
      ],
      "metadata": {
        "id": "23xYVM__8eBz"
      },
      "execution_count": null,
      "outputs": []
    },
    {
      "cell_type": "code",
      "source": [
        "class Network(nn.Module):\n",
        "    def __init__(self):\n",
        "        super().__init__()\n",
        "        self.conv1 = nn.Sequential(nn.Conv2d(1,16,3), nn.ReLU(), nn.BatchNorm2d(16), nn.Dropout(0.1), # 26x26x16\n",
        "                                   nn.Conv2d(16,32,3), nn.ReLU(), nn.BatchNorm2d(32), nn.Dropout(0.1),# 24x24x32\n",
        "                                   nn.Conv2d(32,10,1), nn.ReLU(), #24x24x10\n",
        "                                   nn.MaxPool2d(2, 2), #12x12x16\n",
        "            \n",
        "                                   )\n",
        "        self.conv2 =  nn.Sequential(nn.Conv2d(10,16,3),nn.ReLU(), nn.BatchNorm2d(16), nn.Dropout(0.1), #10x10x16\n",
        "                                   nn.Conv2d(16,16,3),nn.ReLU(), nn.BatchNorm2d(16), nn.Dropout(0.1),   #8x8x16\n",
        "                                   nn.Conv2d(16,16,3),nn.ReLU(), nn.BatchNorm2d(16), nn.Dropout(0.1),   #6x6x16\n",
        "        )\n",
        "\n",
        "        self.fc1 = nn.Linear(in_features=16 * 6 * 6, out_features=120)\n",
        "        self.fc2 = nn.Linear(in_features=120, out_features=60)\n",
        "        self.out1 = nn.Linear(in_features=60, out_features=10)\n",
        "        \n",
        "\n",
        "        self.fc11 = nn.Linear(in_features=586, out_features=240)\n",
        "        self.fc21 = nn.Linear(in_features=240, out_features=120)\n",
        "        self.fc22 = nn.Linear(in_features=120, out_features=60)\n",
        "        self.fc23 = nn.Linear(in_features=60, out_features=30)\n",
        "        self.out2 = nn.Linear(in_features=30, out_features=19)\n",
        "\n",
        "    def forward(self, x, y):\n",
        "        x = self.conv1(x)\n",
        "        x = self.conv2(x)\n",
        "\n",
        "        x = x.reshape(-1, 16*6*6)\n",
        "        #print(f'shape after flattening:{x.shape}')\n",
        "        #print(f'shape of random number:{y.shape}')\n",
        "\n",
        "        x1 = torch.cat([x, y], dim =1)\n",
        "        #print(f'shape of x1:{x1.shape}')\n",
        "\n",
        "        x = self.fc1(x)\n",
        "        x = F.relu(x)\n",
        "        x = self.fc2(x)\n",
        "        x = F.relu(x)\n",
        "        x = self.out1(x)\n",
        "\n",
        "        x1 = F.relu(self.fc11(x1))\n",
        "        x1 = F.relu(self.fc21(x1))\n",
        "        x1 = F.relu(self.fc22(x1))\n",
        "        x1 = F.relu(self.fc23(x1))\n",
        "        x1 = self.out2(x1)\n",
        "\n",
        "        x = F.softmax(x, dim=1)\n",
        "        x1 = F.softmax(x1, dim=1)\n",
        "\n",
        "        return x, x1"
      ],
      "metadata": {
        "id": "RtWYNYAXDzqG"
      },
      "execution_count": 94,
      "outputs": []
    },
    {
      "cell_type": "code",
      "source": [
        "from torchsummary import summary\n",
        "use_cuda = torch.cuda.is_available()\n",
        "device = torch.device(\"cuda\" if use_cuda else \"cpu\")\n",
        "model = Network().to(device)\n",
        "#summary(model, input_size=(1, 28, 28))"
      ],
      "metadata": {
        "id": "iCKNdiU6D4V6"
      },
      "execution_count": 95,
      "outputs": []
    },
    {
      "cell_type": "code",
      "source": [
        "def get_num_correct(preds, labels):\n",
        "  return preds.argmax(dim=1).eq(labels).sum().item()"
      ],
      "metadata": {
        "id": "WSijWzhsknyf"
      },
      "execution_count": 96,
      "outputs": []
    },
    {
      "cell_type": "code",
      "source": [
        "from tqdm import tqdm\n",
        "def train(model, device, train_loader, optimizer, epoch):\n",
        "    model.train()\n",
        "    pbar = tqdm(train_loader)\n",
        "    for batch_idx, (num_image, random_number, actual_mnist_num, actual_sum) in enumerate(pbar):\n",
        "        #random_number = random_number.float()\n",
        "        num_image, random_number, actual_mnist_num, actual_sum = num_image.to(device), random_number.float().to(device), actual_mnist_num.to(device), actual_sum.float().to(device)\n",
        "        optimizer.zero_grad()\n",
        "        output1, output2 = model(num_image, random_number)\n",
        "        loss1 = F.cross_entropy(output1, actual_mnist_num)\n",
        "        loss2 = F.cross_entropy(output2, actual_sum)\n",
        "        \n",
        "        total_loss = loss = loss1+ (loss2*4)\n",
        "        total_loss.backward()\n",
        "        optimizer.step()\n",
        "        pbar.set_description(desc= f'loss1={loss1.item():.4f} loss2={loss2.item():.4f} batch_id={batch_idx}')\n",
        "\n",
        "\n",
        "def test(model, device, test_loader):\n",
        "    model.eval()\n",
        "    loss1 = 0\n",
        "    loss2 = 0\n",
        "    test_loss=0\n",
        "    correct_mnist_data = 0\n",
        "    correct_sum_predicted = 0\n",
        "\n",
        "    with torch.no_grad():\n",
        "        for num_image, random_number, actual_mnist_num, actual_sum in test_loader:\n",
        "            \n",
        "            num_image, random_number, actual_mnist_num, actual_sum = num_image.to(device), random_number.float().to(device), actual_mnist_num.to(device), actual_sum.float().to(device)\n",
        "\n",
        "            output1, output2 = model(num_image, random_number)\n",
        "            loss1 += F.cross_entropy(output1, actual_mnist_num, reduction='sum').item()  # sum up batch loss\n",
        "            loss2 += F.cross_entropy(output2, actual_sum, reduction='sum').item()\n",
        "\n",
        "            test_loss = loss1+loss2\n",
        "\n",
        "            a = get_num_correct(output1, actual_mnist_num)\n",
        "            b = get_num_correct(output2, actual_sum.argmax(dim=1))\n",
        "\n",
        "            correct_mnist_data += a\n",
        "            correct_sum_predicted += b\n",
        "\n",
        "    test_loss /= len(test_loader.dataset)\n",
        "\n",
        "    print(f'Test Set: Total Loss:{test_loss:.3f}\\\n",
        "     MNIST Accuray:{100. * correct_mnist_data / len(test_loader.dataset):.3f}%\\t\\t \\\n",
        "     Sum Accuracy:{100. * correct_sum_predicted / len(test_loader.dataset):.3f}% \\n')\n",
        "    "
      ],
      "metadata": {
        "id": "k-H2i8BND6bJ"
      },
      "execution_count": 97,
      "outputs": []
    },
    {
      "cell_type": "code",
      "source": [
        "optimizer = optim.SGD(model.parameters(), lr=0.01, momentum=0.9)\n",
        "\n",
        "for epoch in range(1, 50):\n",
        "    print(\"epoch %d\"% epoch)\n",
        "    train(model, device, train_loader, optimizer, epoch)\n",
        "    test(model, device, test_loader)"
      ],
      "metadata": {
        "colab": {
          "base_uri": "https://localhost:8080/"
        },
        "id": "cHMPrTUPD_Js",
        "outputId": "1bae5120-98d1-4d3b-fa80-b9e9226452c3"
      },
      "execution_count": 98,
      "outputs": [
        {
          "output_type": "stream",
          "name": "stdout",
          "text": [
            "epoch 1\n"
          ]
        },
        {
          "output_type": "stream",
          "name": "stderr",
          "text": [
            "loss1=1.4714 loss2=2.9005 batch_id=749: 100%|██████████| 750/750 [00:15<00:00, 49.54it/s]\n"
          ]
        },
        {
          "output_type": "stream",
          "name": "stdout",
          "text": [
            "Test Set: Total Loss:4.403     MNIST Accuray:96.783%\t\t      Sum Accuracy:11.117% \n",
            "\n",
            "epoch 2\n"
          ]
        },
        {
          "output_type": "stream",
          "name": "stderr",
          "text": [
            "loss1=1.4821 loss2=2.8687 batch_id=749: 100%|██████████| 750/750 [00:13<00:00, 53.82it/s]\n"
          ]
        },
        {
          "output_type": "stream",
          "name": "stdout",
          "text": [
            "Test Set: Total Loss:4.386     MNIST Accuray:97.883%\t\t      Sum Accuracy:11.408% \n",
            "\n",
            "epoch 3\n"
          ]
        },
        {
          "output_type": "stream",
          "name": "stderr",
          "text": [
            "loss1=1.4920 loss2=2.9053 batch_id=749: 100%|██████████| 750/750 [00:13<00:00, 54.29it/s]\n"
          ]
        },
        {
          "output_type": "stream",
          "name": "stdout",
          "text": [
            "Test Set: Total Loss:4.380     MNIST Accuray:98.183%\t\t      Sum Accuracy:11.608% \n",
            "\n",
            "epoch 4\n"
          ]
        },
        {
          "output_type": "stream",
          "name": "stderr",
          "text": [
            "loss1=1.4831 loss2=2.9152 batch_id=749: 100%|██████████| 750/750 [00:13<00:00, 54.36it/s]\n"
          ]
        },
        {
          "output_type": "stream",
          "name": "stdout",
          "text": [
            "Test Set: Total Loss:4.376     MNIST Accuray:98.325%\t\t      Sum Accuracy:11.692% \n",
            "\n",
            "epoch 5\n"
          ]
        },
        {
          "output_type": "stream",
          "name": "stderr",
          "text": [
            "loss1=1.4941 loss2=2.8895 batch_id=749: 100%|██████████| 750/750 [00:13<00:00, 54.08it/s]\n"
          ]
        },
        {
          "output_type": "stream",
          "name": "stdout",
          "text": [
            "Test Set: Total Loss:4.382     MNIST Accuray:97.292%\t\t      Sum Accuracy:12.858% \n",
            "\n",
            "epoch 6\n"
          ]
        },
        {
          "output_type": "stream",
          "name": "stderr",
          "text": [
            "loss1=1.4884 loss2=2.8228 batch_id=749: 100%|██████████| 750/750 [00:13<00:00, 53.92it/s]\n"
          ]
        },
        {
          "output_type": "stream",
          "name": "stdout",
          "text": [
            "Test Set: Total Loss:4.335     MNIST Accuray:97.567%\t\t      Sum Accuracy:18.892% \n",
            "\n",
            "epoch 7\n"
          ]
        },
        {
          "output_type": "stream",
          "name": "stderr",
          "text": [
            "loss1=1.4864 loss2=2.6295 batch_id=749: 100%|██████████| 750/750 [00:14<00:00, 53.34it/s]\n"
          ]
        },
        {
          "output_type": "stream",
          "name": "stdout",
          "text": [
            "Test Set: Total Loss:4.214     MNIST Accuray:98.375%\t\t      Sum Accuracy:30.025% \n",
            "\n",
            "epoch 8\n"
          ]
        },
        {
          "output_type": "stream",
          "name": "stderr",
          "text": [
            "loss1=1.4848 loss2=2.6382 batch_id=749: 100%|██████████| 750/750 [00:13<00:00, 54.26it/s]\n"
          ]
        },
        {
          "output_type": "stream",
          "name": "stdout",
          "text": [
            "Test Set: Total Loss:4.202     MNIST Accuray:98.642%\t\t      Sum Accuracy:30.483% \n",
            "\n",
            "epoch 9\n"
          ]
        },
        {
          "output_type": "stream",
          "name": "stderr",
          "text": [
            "loss1=1.4923 loss2=2.6978 batch_id=749: 100%|██████████| 750/750 [00:14<00:00, 50.09it/s]\n"
          ]
        },
        {
          "output_type": "stream",
          "name": "stdout",
          "text": [
            "Test Set: Total Loss:4.185     MNIST Accuray:98.650%\t\t      Sum Accuracy:31.767% \n",
            "\n",
            "epoch 10\n"
          ]
        },
        {
          "output_type": "stream",
          "name": "stderr",
          "text": [
            "loss1=1.4806 loss2=2.6665 batch_id=749: 100%|██████████| 750/750 [00:13<00:00, 55.04it/s]\n"
          ]
        },
        {
          "output_type": "stream",
          "name": "stdout",
          "text": [
            "Test Set: Total Loss:4.181     MNIST Accuray:98.775%\t\t      Sum Accuracy:31.875% \n",
            "\n",
            "epoch 11\n"
          ]
        },
        {
          "output_type": "stream",
          "name": "stderr",
          "text": [
            "loss1=1.5009 loss2=2.6664 batch_id=749: 100%|██████████| 750/750 [00:13<00:00, 54.91it/s]\n"
          ]
        },
        {
          "output_type": "stream",
          "name": "stdout",
          "text": [
            "Test Set: Total Loss:4.107     MNIST Accuray:98.792%\t\t      Sum Accuracy:40.858% \n",
            "\n",
            "epoch 12\n"
          ]
        },
        {
          "output_type": "stream",
          "name": "stderr",
          "text": [
            "loss1=1.4630 loss2=2.6215 batch_id=749: 100%|██████████| 750/750 [00:14<00:00, 53.44it/s]\n"
          ]
        },
        {
          "output_type": "stream",
          "name": "stdout",
          "text": [
            "Test Set: Total Loss:4.078     MNIST Accuray:98.758%\t\t      Sum Accuracy:42.333% \n",
            "\n",
            "epoch 13\n"
          ]
        },
        {
          "output_type": "stream",
          "name": "stderr",
          "text": [
            "loss1=1.4776 loss2=2.6010 batch_id=749: 100%|██████████| 750/750 [00:14<00:00, 51.55it/s]\n"
          ]
        },
        {
          "output_type": "stream",
          "name": "stdout",
          "text": [
            "Test Set: Total Loss:4.074     MNIST Accuray:98.767%\t\t      Sum Accuracy:42.458% \n",
            "\n",
            "epoch 14\n"
          ]
        },
        {
          "output_type": "stream",
          "name": "stderr",
          "text": [
            "loss1=1.4639 loss2=2.3858 batch_id=749: 100%|██████████| 750/750 [00:14<00:00, 52.90it/s]\n"
          ]
        },
        {
          "output_type": "stream",
          "name": "stdout",
          "text": [
            "Test Set: Total Loss:3.904     MNIST Accuray:98.592%\t\t      Sum Accuracy:60.717% \n",
            "\n",
            "epoch 15\n"
          ]
        },
        {
          "output_type": "stream",
          "name": "stderr",
          "text": [
            "loss1=1.4703 loss2=2.4029 batch_id=749: 100%|██████████| 750/750 [00:13<00:00, 54.93it/s]\n"
          ]
        },
        {
          "output_type": "stream",
          "name": "stdout",
          "text": [
            "Test Set: Total Loss:3.880     MNIST Accuray:98.717%\t\t      Sum Accuracy:62.700% \n",
            "\n",
            "epoch 16\n"
          ]
        },
        {
          "output_type": "stream",
          "name": "stderr",
          "text": [
            "loss1=1.4623 loss2=2.4158 batch_id=749: 100%|██████████| 750/750 [00:13<00:00, 54.34it/s]\n"
          ]
        },
        {
          "output_type": "stream",
          "name": "stdout",
          "text": [
            "Test Set: Total Loss:3.877     MNIST Accuray:98.567%\t\t      Sum Accuracy:62.958% \n",
            "\n",
            "epoch 17\n"
          ]
        },
        {
          "output_type": "stream",
          "name": "stderr",
          "text": [
            "loss1=1.4935 loss2=2.4686 batch_id=749: 100%|██████████| 750/750 [00:13<00:00, 54.28it/s]\n"
          ]
        },
        {
          "output_type": "stream",
          "name": "stdout",
          "text": [
            "Test Set: Total Loss:3.873     MNIST Accuray:98.858%\t\t      Sum Accuracy:63.125% \n",
            "\n",
            "epoch 18\n"
          ]
        },
        {
          "output_type": "stream",
          "name": "stderr",
          "text": [
            "loss1=1.5037 loss2=2.3673 batch_id=749: 100%|██████████| 750/750 [00:14<00:00, 53.45it/s]\n"
          ]
        },
        {
          "output_type": "stream",
          "name": "stdout",
          "text": [
            "Test Set: Total Loss:3.870     MNIST Accuray:98.792%\t\t      Sum Accuracy:63.217% \n",
            "\n",
            "epoch 19\n"
          ]
        },
        {
          "output_type": "stream",
          "name": "stderr",
          "text": [
            "loss1=1.4679 loss2=2.3322 batch_id=749: 100%|██████████| 750/750 [00:13<00:00, 54.57it/s]\n"
          ]
        },
        {
          "output_type": "stream",
          "name": "stdout",
          "text": [
            "Test Set: Total Loss:3.868     MNIST Accuray:98.892%\t\t      Sum Accuracy:63.400% \n",
            "\n",
            "epoch 20\n"
          ]
        },
        {
          "output_type": "stream",
          "name": "stderr",
          "text": [
            "loss1=1.4732 loss2=2.4481 batch_id=749: 100%|██████████| 750/750 [00:13<00:00, 55.10it/s]\n"
          ]
        },
        {
          "output_type": "stream",
          "name": "stdout",
          "text": [
            "Test Set: Total Loss:3.868     MNIST Accuray:98.783%\t\t      Sum Accuracy:63.375% \n",
            "\n",
            "epoch 21\n"
          ]
        },
        {
          "output_type": "stream",
          "name": "stderr",
          "text": [
            "loss1=1.5259 loss2=2.4212 batch_id=749: 100%|██████████| 750/750 [00:13<00:00, 54.57it/s]\n"
          ]
        },
        {
          "output_type": "stream",
          "name": "stdout",
          "text": [
            "Test Set: Total Loss:3.863     MNIST Accuray:98.908%\t\t      Sum Accuracy:63.600% \n",
            "\n",
            "epoch 22\n"
          ]
        },
        {
          "output_type": "stream",
          "name": "stderr",
          "text": [
            "loss1=1.4904 loss2=2.3124 batch_id=749: 100%|██████████| 750/750 [00:13<00:00, 54.58it/s]\n"
          ]
        },
        {
          "output_type": "stream",
          "name": "stdout",
          "text": [
            "Test Set: Total Loss:3.827     MNIST Accuray:98.600%\t\t      Sum Accuracy:67.833% \n",
            "\n",
            "epoch 23\n"
          ]
        },
        {
          "output_type": "stream",
          "name": "stderr",
          "text": [
            "loss1=1.4704 loss2=2.4174 batch_id=749: 100%|██████████| 750/750 [00:13<00:00, 54.75it/s]\n"
          ]
        },
        {
          "output_type": "stream",
          "name": "stdout",
          "text": [
            "Test Set: Total Loss:3.811     MNIST Accuray:98.950%\t\t      Sum Accuracy:68.900% \n",
            "\n",
            "epoch 24\n"
          ]
        },
        {
          "output_type": "stream",
          "name": "stderr",
          "text": [
            "loss1=1.4939 loss2=2.4482 batch_id=749: 100%|██████████| 750/750 [00:13<00:00, 54.93it/s]\n"
          ]
        },
        {
          "output_type": "stream",
          "name": "stdout",
          "text": [
            "Test Set: Total Loss:3.816     MNIST Accuray:98.775%\t\t      Sum Accuracy:68.517% \n",
            "\n",
            "epoch 25\n"
          ]
        },
        {
          "output_type": "stream",
          "name": "stderr",
          "text": [
            "loss1=1.4771 loss2=2.3382 batch_id=749: 100%|██████████| 750/750 [00:14<00:00, 53.41it/s]\n"
          ]
        },
        {
          "output_type": "stream",
          "name": "stdout",
          "text": [
            "Test Set: Total Loss:3.807     MNIST Accuray:99.025%\t\t      Sum Accuracy:69.167% \n",
            "\n",
            "epoch 26\n"
          ]
        },
        {
          "output_type": "stream",
          "name": "stderr",
          "text": [
            "loss1=1.4669 loss2=2.3242 batch_id=749: 100%|██████████| 750/750 [00:15<00:00, 49.07it/s]\n"
          ]
        },
        {
          "output_type": "stream",
          "name": "stdout",
          "text": [
            "Test Set: Total Loss:3.808     MNIST Accuray:98.883%\t\t      Sum Accuracy:69.083% \n",
            "\n",
            "epoch 27\n"
          ]
        },
        {
          "output_type": "stream",
          "name": "stderr",
          "text": [
            "loss1=1.4617 loss2=2.3082 batch_id=749: 100%|██████████| 750/750 [00:14<00:00, 53.01it/s]\n"
          ]
        },
        {
          "output_type": "stream",
          "name": "stdout",
          "text": [
            "Test Set: Total Loss:3.807     MNIST Accuray:99.033%\t\t      Sum Accuracy:69.158% \n",
            "\n",
            "epoch 28\n"
          ]
        },
        {
          "output_type": "stream",
          "name": "stderr",
          "text": [
            "loss1=1.4716 loss2=2.2314 batch_id=749: 100%|██████████| 750/750 [00:13<00:00, 54.10it/s]\n"
          ]
        },
        {
          "output_type": "stream",
          "name": "stdout",
          "text": [
            "Test Set: Total Loss:3.807     MNIST Accuray:98.908%\t\t      Sum Accuracy:69.192% \n",
            "\n",
            "epoch 29\n"
          ]
        },
        {
          "output_type": "stream",
          "name": "stderr",
          "text": [
            "loss1=1.4768 loss2=2.3367 batch_id=749: 100%|██████████| 750/750 [00:13<00:00, 53.87it/s]\n"
          ]
        },
        {
          "output_type": "stream",
          "name": "stdout",
          "text": [
            "Test Set: Total Loss:3.805     MNIST Accuray:99.067%\t\t      Sum Accuracy:69.208% \n",
            "\n",
            "epoch 30\n"
          ]
        },
        {
          "output_type": "stream",
          "name": "stderr",
          "text": [
            "loss1=1.4738 loss2=2.4448 batch_id=749: 100%|██████████| 750/750 [00:13<00:00, 54.17it/s]\n"
          ]
        },
        {
          "output_type": "stream",
          "name": "stdout",
          "text": [
            "Test Set: Total Loss:3.802     MNIST Accuray:99.050%\t\t      Sum Accuracy:69.158% \n",
            "\n",
            "epoch 31\n"
          ]
        },
        {
          "output_type": "stream",
          "name": "stderr",
          "text": [
            "loss1=1.4614 loss2=2.3383 batch_id=749: 100%|██████████| 750/750 [00:14<00:00, 53.50it/s]\n"
          ]
        },
        {
          "output_type": "stream",
          "name": "stdout",
          "text": [
            "Test Set: Total Loss:3.772     MNIST Accuray:99.042%\t\t      Sum Accuracy:72.608% \n",
            "\n",
            "epoch 32\n"
          ]
        },
        {
          "output_type": "stream",
          "name": "stderr",
          "text": [
            "loss1=1.4885 loss2=2.2652 batch_id=749: 100%|██████████| 750/750 [00:13<00:00, 54.02it/s]\n"
          ]
        },
        {
          "output_type": "stream",
          "name": "stdout",
          "text": [
            "Test Set: Total Loss:3.772     MNIST Accuray:99.133%\t\t      Sum Accuracy:72.550% \n",
            "\n",
            "epoch 33\n"
          ]
        },
        {
          "output_type": "stream",
          "name": "stderr",
          "text": [
            "loss1=1.5028 loss2=2.2927 batch_id=749: 100%|██████████| 750/750 [00:13<00:00, 53.87it/s]\n"
          ]
        },
        {
          "output_type": "stream",
          "name": "stdout",
          "text": [
            "Test Set: Total Loss:3.775     MNIST Accuray:98.867%\t\t      Sum Accuracy:72.442% \n",
            "\n",
            "epoch 34\n"
          ]
        },
        {
          "output_type": "stream",
          "name": "stderr",
          "text": [
            "loss1=1.4614 loss2=2.1847 batch_id=749: 100%|██████████| 750/750 [00:13<00:00, 54.28it/s]\n"
          ]
        },
        {
          "output_type": "stream",
          "name": "stdout",
          "text": [
            "Test Set: Total Loss:3.770     MNIST Accuray:99.142%\t\t      Sum Accuracy:72.650% \n",
            "\n",
            "epoch 35\n"
          ]
        },
        {
          "output_type": "stream",
          "name": "stderr",
          "text": [
            "loss1=1.4619 loss2=2.3218 batch_id=749: 100%|██████████| 750/750 [00:13<00:00, 53.86it/s]\n"
          ]
        },
        {
          "output_type": "stream",
          "name": "stdout",
          "text": [
            "Test Set: Total Loss:3.769     MNIST Accuray:99.183%\t\t      Sum Accuracy:72.658% \n",
            "\n",
            "epoch 36\n"
          ]
        },
        {
          "output_type": "stream",
          "name": "stderr",
          "text": [
            "loss1=1.4617 loss2=2.2449 batch_id=749: 100%|██████████| 750/750 [00:13<00:00, 53.73it/s]\n"
          ]
        },
        {
          "output_type": "stream",
          "name": "stdout",
          "text": [
            "Test Set: Total Loss:3.767     MNIST Accuray:99.200%\t\t      Sum Accuracy:72.758% \n",
            "\n",
            "epoch 37\n"
          ]
        },
        {
          "output_type": "stream",
          "name": "stderr",
          "text": [
            "loss1=1.4711 loss2=2.2908 batch_id=749: 100%|██████████| 750/750 [00:13<00:00, 54.09it/s]\n"
          ]
        },
        {
          "output_type": "stream",
          "name": "stdout",
          "text": [
            "Test Set: Total Loss:3.769     MNIST Accuray:99.183%\t\t      Sum Accuracy:72.725% \n",
            "\n",
            "epoch 38\n"
          ]
        },
        {
          "output_type": "stream",
          "name": "stderr",
          "text": [
            "loss1=1.5150 loss2=2.2972 batch_id=749: 100%|██████████| 750/750 [00:13<00:00, 53.93it/s]\n"
          ]
        },
        {
          "output_type": "stream",
          "name": "stdout",
          "text": [
            "Test Set: Total Loss:3.771     MNIST Accuray:99.150%\t\t      Sum Accuracy:72.508% \n",
            "\n",
            "epoch 39\n"
          ]
        },
        {
          "output_type": "stream",
          "name": "stderr",
          "text": [
            "loss1=1.4612 loss2=2.2116 batch_id=749: 100%|██████████| 750/750 [00:13<00:00, 53.70it/s]\n"
          ]
        },
        {
          "output_type": "stream",
          "name": "stdout",
          "text": [
            "Test Set: Total Loss:3.770     MNIST Accuray:99.108%\t\t      Sum Accuracy:72.675% \n",
            "\n",
            "epoch 40\n"
          ]
        },
        {
          "output_type": "stream",
          "name": "stderr",
          "text": [
            "loss1=1.4810 loss2=2.3127 batch_id=749: 100%|██████████| 750/750 [00:14<00:00, 53.45it/s]\n"
          ]
        },
        {
          "output_type": "stream",
          "name": "stdout",
          "text": [
            "Test Set: Total Loss:3.770     MNIST Accuray:99.058%\t\t      Sum Accuracy:72.717% \n",
            "\n",
            "epoch 41\n"
          ]
        },
        {
          "output_type": "stream",
          "name": "stderr",
          "text": [
            "loss1=1.4814 loss2=2.2917 batch_id=749: 100%|██████████| 750/750 [00:13<00:00, 53.74it/s]\n"
          ]
        },
        {
          "output_type": "stream",
          "name": "stdout",
          "text": [
            "Test Set: Total Loss:3.770     MNIST Accuray:98.983%\t\t      Sum Accuracy:72.633% \n",
            "\n",
            "epoch 42\n"
          ]
        },
        {
          "output_type": "stream",
          "name": "stderr",
          "text": [
            "loss1=1.4646 loss2=2.2595 batch_id=749: 100%|██████████| 750/750 [00:13<00:00, 53.71it/s]\n"
          ]
        },
        {
          "output_type": "stream",
          "name": "stdout",
          "text": [
            "Test Set: Total Loss:3.766     MNIST Accuray:99.242%\t\t      Sum Accuracy:72.858% \n",
            "\n",
            "epoch 43\n"
          ]
        },
        {
          "output_type": "stream",
          "name": "stderr",
          "text": [
            "loss1=1.4613 loss2=2.3628 batch_id=749: 100%|██████████| 750/750 [00:14<00:00, 53.53it/s]\n"
          ]
        },
        {
          "output_type": "stream",
          "name": "stdout",
          "text": [
            "Test Set: Total Loss:3.762     MNIST Accuray:99.192%\t\t      Sum Accuracy:73.617% \n",
            "\n",
            "epoch 44\n"
          ]
        },
        {
          "output_type": "stream",
          "name": "stderr",
          "text": [
            "loss1=1.4762 loss2=2.1943 batch_id=749: 100%|██████████| 750/750 [00:15<00:00, 48.24it/s]\n"
          ]
        },
        {
          "output_type": "stream",
          "name": "stdout",
          "text": [
            "Test Set: Total Loss:3.758     MNIST Accuray:99.158%\t\t      Sum Accuracy:73.742% \n",
            "\n",
            "epoch 45\n"
          ]
        },
        {
          "output_type": "stream",
          "name": "stderr",
          "text": [
            "loss1=1.4612 loss2=2.2750 batch_id=749: 100%|██████████| 750/750 [00:13<00:00, 53.59it/s]\n"
          ]
        },
        {
          "output_type": "stream",
          "name": "stdout",
          "text": [
            "Test Set: Total Loss:3.761     MNIST Accuray:99.067%\t\t      Sum Accuracy:73.592% \n",
            "\n",
            "epoch 46\n"
          ]
        },
        {
          "output_type": "stream",
          "name": "stderr",
          "text": [
            "loss1=1.4642 loss2=2.3062 batch_id=749: 100%|██████████| 750/750 [00:13<00:00, 54.04it/s]\n"
          ]
        },
        {
          "output_type": "stream",
          "name": "stdout",
          "text": [
            "Test Set: Total Loss:3.760     MNIST Accuray:99.192%\t\t      Sum Accuracy:73.558% \n",
            "\n",
            "epoch 47\n"
          ]
        },
        {
          "output_type": "stream",
          "name": "stderr",
          "text": [
            "loss1=1.4772 loss2=2.2571 batch_id=749: 100%|██████████| 750/750 [00:14<00:00, 52.92it/s]\n"
          ]
        },
        {
          "output_type": "stream",
          "name": "stdout",
          "text": [
            "Test Set: Total Loss:3.759     MNIST Accuray:99.100%\t\t      Sum Accuracy:73.633% \n",
            "\n",
            "epoch 48\n"
          ]
        },
        {
          "output_type": "stream",
          "name": "stderr",
          "text": [
            "loss1=1.4767 loss2=2.2449 batch_id=749: 100%|██████████| 750/750 [00:14<00:00, 51.94it/s]\n"
          ]
        },
        {
          "output_type": "stream",
          "name": "stdout",
          "text": [
            "Test Set: Total Loss:3.757     MNIST Accuray:99.225%\t\t      Sum Accuracy:73.767% \n",
            "\n",
            "epoch 49\n"
          ]
        },
        {
          "output_type": "stream",
          "name": "stderr",
          "text": [
            "loss1=1.4612 loss2=2.2761 batch_id=749: 100%|██████████| 750/750 [00:14<00:00, 52.81it/s]\n"
          ]
        },
        {
          "output_type": "stream",
          "name": "stdout",
          "text": [
            "Test Set: Total Loss:3.760     MNIST Accuray:99.183%\t\t      Sum Accuracy:73.533% \n",
            "\n"
          ]
        }
      ]
    },
    {
      "cell_type": "code",
      "source": [
        "model = torch.jit.load(cfg.ckpt_path)\n",
        "model.eval()"
      ],
      "metadata": {
        "id": "NRBo_V4M1TJX"
      },
      "execution_count": null,
      "outputs": []
    }
  ]
}